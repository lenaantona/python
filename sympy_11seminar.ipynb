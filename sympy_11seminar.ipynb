{
 "cells": [
  {
   "cell_type": "markdown",
   "id": "7f766d76",
   "metadata": {},
   "source": [
    "f(x) = (sin(x)/2 + cos(x)/2)^2 * sin(x)"
   ]
  },
  {
   "cell_type": "code",
   "execution_count": 143,
   "id": "9bada8a6",
   "metadata": {},
   "outputs": [],
   "source": [
    "from sympy.abc import x\n",
    "from sympy import solveset, diff, plot, sin, periodicity, Interval, oo, cos, trigsimp,solve, Symbol, pi,evalf, maximum, minimum, Subs"
   ]
  },
  {
   "cell_type": "markdown",
   "id": "ec613151",
   "metadata": {},
   "source": [
    "Определить корни"
   ]
  },
  {
   "cell_type": "code",
   "execution_count": 144,
   "id": "5b34b8a7",
   "metadata": {},
   "outputs": [
    {
     "data": {
      "text/latex": [
       "$\\displaystyle \\frac{\\sin{\\left(x \\right)} \\sin^{2}{\\left(x + \\frac{\\pi}{4} \\right)}}{2}$"
      ],
      "text/plain": [
       "sin(x)*sin(x + pi/4)**2/2"
      ]
     },
     "execution_count": 144,
     "metadata": {},
     "output_type": "execute_result"
    }
   ],
   "source": [
    "y = (sin(x)/2 + cos(x)/2)**2*sin(x)\n",
    "trigsimp(y)"
   ]
  },
  {
   "cell_type": "code",
   "execution_count": 145,
   "id": "3ef1c5d6",
   "metadata": {},
   "outputs": [
    {
     "data": {
      "text/latex": [
       "$\\displaystyle \\left\\{2 n \\pi\\; \\middle|\\; n \\in \\mathbb{Z}\\right\\} \\cup \\left\\{2 n \\pi + \\pi\\; \\middle|\\; n \\in \\mathbb{Z}\\right\\} \\cup \\left\\{2 n \\pi + \\frac{3 \\pi}{4}\\; \\middle|\\; n \\in \\mathbb{Z}\\right\\} \\cup \\left\\{2 n \\pi + \\frac{7 \\pi}{4}\\; \\middle|\\; n \\in \\mathbb{Z}\\right\\}$"
      ],
      "text/plain": [
       "Union(ImageSet(Lambda(_n, 2*_n*pi + 3*pi/4), Integers), ImageSet(Lambda(_n, 2*_n*pi + 7*pi/4), Integers), ImageSet(Lambda(_n, 2*_n*pi + pi), Integers), ImageSet(Lambda(_n, 2*_n*pi), Integers))"
      ]
     },
     "execution_count": 145,
     "metadata": {},
     "output_type": "execute_result"
    }
   ],
   "source": [
    "solveset(y,x)"
   ]
  },
  {
   "cell_type": "markdown",
   "id": "29b23999",
   "metadata": {},
   "source": [
    "Найти интервалы, на которых функция возрастает и убывает"
   ]
  },
  {
   "cell_type": "code",
   "execution_count": 146,
   "id": "6925d334",
   "metadata": {},
   "outputs": [
    {
     "data": {
      "text/latex": [
       "$\\displaystyle \\left(- \\sin{\\left(x \\right)} + \\cos{\\left(x \\right)}\\right) \\left(\\frac{\\sin{\\left(x \\right)}}{2} + \\frac{\\cos{\\left(x \\right)}}{2}\\right) \\sin{\\left(x \\right)} + \\left(\\frac{\\sin{\\left(x \\right)}}{2} + \\frac{\\cos{\\left(x \\right)}}{2}\\right)^{2} \\cos{\\left(x \\right)}$"
      ],
      "text/plain": [
       "(-sin(x) + cos(x))*(sin(x)/2 + cos(x)/2)*sin(x) + (sin(x)/2 + cos(x)/2)**2*cos(x)"
      ]
     },
     "execution_count": 146,
     "metadata": {},
     "output_type": "execute_result"
    }
   ],
   "source": [
    "derivate = diff(y)\n",
    "derivate"
   ]
  },
  {
   "cell_type": "code",
   "execution_count": 147,
   "id": "d56e104a",
   "metadata": {},
   "outputs": [
    {
     "data": {
      "text/latex": [
       "$\\displaystyle 2 \\pi$"
      ],
      "text/plain": [
       "2*pi"
      ]
     },
     "execution_count": 147,
     "metadata": {},
     "output_type": "execute_result"
    }
   ],
   "source": [
    "p = periodicity(y,x)\n",
    "p"
   ]
  },
  {
   "cell_type": "code",
   "execution_count": 148,
   "id": "c2292360",
   "metadata": {},
   "outputs": [
    {
     "data": {
      "text/plain": [
       "[0, 1.1, 2.4, 2.9, 4.2, 5.5, 6.0, 6.3]"
      ]
     },
     "execution_count": 148,
     "metadata": {},
     "output_type": "execute_result"
    }
   ],
   "source": [
    "x_list = list(solveset(derivate, x, Interval(0,p)).evalf(2))\n",
    "x_list.insert(0,0)\n",
    "x_list.append(p.evalf(2))\n",
    "x_list"
   ]
  },
  {
   "cell_type": "markdown",
   "id": "561aeec0",
   "metadata": {},
   "source": [
    "Интервалы, на которых функция возрастает и убывает"
   ]
  },
  {
   "cell_type": "code",
   "execution_count": 149,
   "id": "737ac188",
   "metadata": {},
   "outputs": [
    {
     "name": "stdout",
     "output_type": "stream",
     "text": [
      "0:1.1 возрастает\n",
      "1.1:2.4 убывает\n",
      "2.4:2.9 возрастает\n",
      "2.9:4.2 убывает\n",
      "4.2:5.5 возрастает\n",
      "5.5:6.0 убывает\n",
      "6.0:6.3 возрастает\n"
     ]
    }
   ],
   "source": [
    "for i in range(0, len(x_list)-1):\n",
    "    if derivate.subs(x, (x_list[i]+x_list[i+1])/2)>0:\n",
    "        print(f'{x_list[i]}:{x_list[i+1]} возрастает')\n",
    "    else:\n",
    "        print(f'{x_list[i]}:{x_list[i+1]} убывает')"
   ]
  },
  {
   "cell_type": "code",
   "execution_count": 150,
   "id": "8cdb5a22",
   "metadata": {},
   "outputs": [
    {
     "data": {
      "image/png": "[encoded data removed]",
      "text/plain": [
       "<Figure size 432x288 with 1 Axes>"
      ]
     },
     "metadata": {
      "needs_background": "light"
     },
     "output_type": "display_data"
    }
   ],
   "source": [
    "g = plot(y, (x, 0, 2*pi))"
   ]
  },
  {
   "cell_type": "markdown",
   "id": "c3a6ae5b",
   "metadata": {},
   "source": [
    "Вычислить вершину"
   ]
  },
  {
   "cell_type": "code",
   "execution_count": 151,
   "id": "f008c4f3",
   "metadata": {},
   "outputs": [
    {
     "name": "stdout",
     "output_type": "stream",
     "text": [
      "Максимальная вершина у = 0.40, минимальная вершина y = -0.40\n"
     ]
    }
   ],
   "source": [
    "max_y = maximum(y,x,Interval(0,p)).evalf(2)\n",
    "min_y = minimum(y,x,Interval(0,p)).evalf(2)\n",
    "print(f'Максимальная вершина у = {max_y}, минимальная вершина y = {min_y}')\n"
   ]
  },
  {
   "attachments": {},
   "cell_type": "markdown",
   "id": "693f4c03",
   "metadata": {},
   "source": [
    "Определить промежутки, на котором f > 0"
   ]
  },
  {
   "cell_type": "code",
   "execution_count": 152,
   "id": "f71e363f",
   "metadata": {},
   "outputs": [
    {
     "data": {
      "text/latex": [
       "$\\displaystyle \\left(0, 2.4\\right) \\cup \\left(2.4, 3.1\\right)$"
      ],
      "text/plain": [
       "Union(Interval.open(0, 2.4), Interval.open(2.4, 3.1))"
      ]
     },
     "execution_count": 152,
     "metadata": {},
     "output_type": "execute_result"
    }
   ],
   "source": [
    "solveset(y>0, x, Interval(0,p)).evalf(2)"
   ]
  },
  {
   "cell_type": "markdown",
   "id": "c3458871",
   "metadata": {},
   "source": [
    "Определить промежутки, на котором f < 0"
   ]
  },
  {
   "cell_type": "code",
   "execution_count": 153,
   "id": "dd47a349",
   "metadata": {},
   "outputs": [
    {
     "data": {
      "text/latex": [
       "$\\displaystyle \\left(3.1, 5.5\\right) \\cup \\left(5.5, 6.3\\right)$"
      ],
      "text/plain": [
       "Union(Interval.open(3.1, 5.5), Interval.open(5.5, 6.3))"
      ]
     },
     "execution_count": 153,
     "metadata": {},
     "output_type": "execute_result"
    }
   ],
   "source": [
    "solveset(y<0, x, Interval(0,p)).evalf(2)"
   ]
  }
 ],
 "metadata": {
  "kernelspec": {
   "display_name": "Python 3 (ipykernel)",
   "language": "python",
   "name": "python3"
  },
  "language_info": {
   "codemirror_mode": {
    "name": "ipython",
    "version": 3
   },
   "file_extension": ".py",
   "mimetype": "text/x-python",
   "name": "python",
   "nbconvert_exporter": "python",
   "pygments_lexer": "ipython3",
   "version": "3.9.12"
  }
 },
 "nbformat": 4,
 "nbformat_minor": 5
}
